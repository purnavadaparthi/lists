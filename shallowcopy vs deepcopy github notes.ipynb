{
 "cells": [
  {
   "cell_type": "markdown",
   "id": "c5f72b40",
   "metadata": {},
   "source": [
    "# shallowcopy() vs deepcopy()"
   ]
  },
  {
   "cell_type": "markdown",
   "id": "b5164483",
   "metadata": {},
   "source": [
    "* copy()\n"
   ]
  },
  {
   "cell_type": "code",
   "execution_count": 1,
   "id": "e69c900d",
   "metadata": {},
   "outputs": [
    {
     "name": "stdout",
     "output_type": "stream",
     "text": [
      "['purna', 'veera', 'chandu']\n",
      "1995853785856\n",
      "['purna', 'veera', 'chandu']\n",
      "1995853785856\n"
     ]
    }
   ],
   "source": [
    "a=['purna','veera','chandu']\n",
    "b=a\n",
    "print(a,id(a),b,id(b) , sep = '\\n' ) # they have the same memory locations ,where a is equals to exactly to b "
   ]
  },
  {
   "cell_type": "code",
   "execution_count": 7,
   "id": "053d7041",
   "metadata": {},
   "outputs": [
    {
     "name": "stdout",
     "output_type": "stream",
     "text": [
      "['purna', 'veera', 'chandu'] 1995853785856\n",
      "['chandu', 'veera', 'purna'] 1995867183616\n"
     ]
    }
   ],
   "source": [
    "c=a.copy()\n",
    "a.reverse()\n",
    "print(a,id(a))\n",
    "print(c,id(c)) # here the memory locations are changed in the output becuase the order was changed"
   ]
  },
  {
   "cell_type": "code",
   "execution_count": 8,
   "id": "d9acc3f4",
   "metadata": {},
   "outputs": [
    {
     "name": "stdout",
     "output_type": "stream",
     "text": [
      "[1111, 33333, 6666, ['python', 'sql', 'tableu']] 1995867306368\n",
      "[1111, 33333, 6666, ['python', 'sql', 'tableu']] 1995853650496\n"
     ]
    }
   ],
   "source": [
    "d=[1111,33333,6666,['python','sql','tableu']]\n",
    "e=d.copy()\n",
    "print(d,id(d))\n",
    "print(e,id(e))"
   ]
  },
  {
   "cell_type": "markdown",
   "id": "535ad1a2",
   "metadata": {},
   "source": [
    "# deepcopy()"
   ]
  },
  {
   "cell_type": "code",
   "execution_count": 9,
   "id": "fb1c90c9",
   "metadata": {},
   "outputs": [
    {
     "name": "stdout",
     "output_type": "stream",
     "text": [
      "[1111, 33333, 6666, ['python', 'sql', 'tableu']] 1995867109696\n",
      "[1111, 33333, 6666, ['python', 'sql', 'tableu']] 1995853650496\n"
     ]
    }
   ],
   "source": [
    "import copy\n",
    "from copy import deepcopy\n",
    "f= deepcopy(e) \n",
    "print(f,id(f))\n",
    "print(e,id(e))"
   ]
  },
  {
   "cell_type": "markdown",
   "id": "7bbec089",
   "metadata": {},
   "source": [
    "# Range()"
   ]
  },
  {
   "cell_type": "code",
   "execution_count": 10,
   "id": "20906fab",
   "metadata": {},
   "outputs": [],
   "source": [
    " # range(starts,ends,step)\n",
    " #        0           +1\n",
    " # you need to count range objets int,list r tupple \n",
    "\n"
   ]
  },
  {
   "cell_type": "code",
   "execution_count": 12,
   "id": "582a3541",
   "metadata": {},
   "outputs": [
    {
     "data": {
      "text/plain": [
       "range(0, 8)"
      ]
     },
     "execution_count": 12,
     "metadata": {},
     "output_type": "execute_result"
    }
   ],
   "source": [
    "range(8) # it starts from o and ends at 8"
   ]
  },
  {
   "cell_type": "code",
   "execution_count": 13,
   "id": "d9b345f4",
   "metadata": {},
   "outputs": [
    {
     "data": {
      "text/plain": [
       "[0, 1, 2, 3, 4, 5, 6, 7]"
      ]
     },
     "execution_count": 13,
     "metadata": {},
     "output_type": "execute_result"
    }
   ],
   "source": [
    "list(range(8))"
   ]
  },
  {
   "cell_type": "code",
   "execution_count": 15,
   "id": "57727f67",
   "metadata": {},
   "outputs": [
    {
     "data": {
      "text/plain": [
       "[1, 2, 3, 4, 5, 6, 7, 8, 9]"
      ]
     },
     "execution_count": 15,
     "metadata": {},
     "output_type": "execute_result"
    }
   ],
   "source": [
    "list(range(1,10,1))"
   ]
  },
  {
   "cell_type": "markdown",
   "id": "8dd4eb26",
   "metadata": {},
   "source": [
    "# tuple"
   ]
  },
  {
   "cell_type": "code",
   "execution_count": 16,
   "id": "0652f260",
   "metadata": {},
   "outputs": [
    {
     "name": "stdout",
     "output_type": "stream",
     "text": [
      "() 0\n"
     ]
    }
   ],
   "source": [
    "a = tuple()\n",
    "print(a,len(a)) # an empty tuple\n"
   ]
  },
  {
   "cell_type": "code",
   "execution_count": 17,
   "id": "8a733ed6",
   "metadata": {},
   "outputs": [
    {
     "name": "stdout",
     "output_type": "stream",
     "text": [
      "1\n",
      "<built-in function print>\n",
      "(1, (3-3j), <built-in function print>)\n",
      "(<built-in function print>, (3-3j), 1)\n"
     ]
    }
   ],
   "source": [
    "a=(1,2.2,3-3j,False,print)\n",
    "print(a[0])\n",
    "print(a[-1])\n",
    "print(a[::2])\n",
    "print(a[::-2])"
   ]
  },
  {
   "cell_type": "markdown",
   "id": "fecb6e38",
   "metadata": {},
   "source": [
    "# Sets"
   ]
  },
  {
   "cell_type": "markdown",
   "id": "4590082c",
   "metadata": {},
   "source": [
    "* sets are unordered hetrogeneous clusters which are mutable in nature.\n",
    "* they have no indexing ,then no slicing.\n",
    "* sets are denoted by { } or set().\n",
    "* it takes an iterator.\n",
    "* when the set is created ,they dont entertain duplicates.\n"
   ]
  },
  {
   "cell_type": "code",
   "execution_count": 18,
   "id": "62c5f2b1",
   "metadata": {},
   "outputs": [
    {
     "data": {
      "text/plain": [
       "{1, 2, 3}"
      ]
     },
     "execution_count": 18,
     "metadata": {},
     "output_type": "execute_result"
    }
   ],
   "source": [
    "a={1,2,3,1,2,3} # no duplicates are entered\n",
    "a"
   ]
  },
  {
   "cell_type": "code",
   "execution_count": 19,
   "id": "3da6421c",
   "metadata": {},
   "outputs": [
    {
     "data": {
      "text/plain": [
       "{0, 1, 2, 3}"
      ]
     },
     "execution_count": 19,
     "metadata": {},
     "output_type": "execute_result"
    }
   ],
   "source": [
    "b={1,2,3,True,0,False} # true and false are defined as 0 and 1 so they donot represent in the output\n",
    "b"
   ]
  },
  {
   "cell_type": "code",
   "execution_count": 20,
   "id": "030a5e9a",
   "metadata": {},
   "outputs": [
    {
     "name": "stdout",
     "output_type": "stream",
     "text": [
      "['__and__', '__class__', '__class_getitem__', '__contains__', '__delattr__', '__dir__', '__doc__', '__eq__', '__format__', '__ge__', '__getattribute__', '__getstate__', '__gt__', '__hash__', '__iand__', '__init__', '__init_subclass__', '__ior__', '__isub__', '__iter__', '__ixor__', '__le__', '__len__', '__lt__', '__ne__', '__new__', '__or__', '__rand__', '__reduce__', '__reduce_ex__', '__repr__', '__ror__', '__rsub__', '__rxor__', '__setattr__', '__sizeof__', '__str__', '__sub__', '__subclasshook__', '__xor__', 'add', 'clear', 'copy', 'difference', 'difference_update', 'discard', 'intersection', 'intersection_update', 'isdisjoint', 'issubset', 'issuperset', 'pop', 'remove', 'symmetric_difference', 'symmetric_difference_update', 'union', 'update']\n"
     ]
    }
   ],
   "source": [
    "print(dir(set))"
   ]
  },
  {
   "cell_type": "markdown",
   "id": "886c4f6a",
   "metadata": {},
   "source": [
    "## 1.add"
   ]
  },
  {
   "cell_type": "code",
   "execution_count": 21,
   "id": "b383f128",
   "metadata": {},
   "outputs": [
    {
     "data": {
      "text/plain": [
       "{1, 2, 3, 4}"
      ]
     },
     "execution_count": 21,
     "metadata": {},
     "output_type": "execute_result"
    }
   ],
   "source": [
    "a={1,2,3,}\n",
    "a.add(4)\n",
    "a"
   ]
  },
  {
   "cell_type": "markdown",
   "id": "121fcbef",
   "metadata": {},
   "source": [
    "## 2.update"
   ]
  },
  {
   "cell_type": "code",
   "execution_count": 22,
   "id": "e2826450",
   "metadata": {},
   "outputs": [
    {
     "data": {
      "text/plain": [
       "{1, 2, 3, 4, 5, 6}"
      ]
     },
     "execution_count": 22,
     "metadata": {},
     "output_type": "execute_result"
    }
   ],
   "source": [
    "a.update([5,6])\n",
    "a"
   ]
  },
  {
   "cell_type": "markdown",
   "id": "2b3cc909",
   "metadata": {},
   "source": [
    "## 3.remove"
   ]
  },
  {
   "cell_type": "code",
   "execution_count": 23,
   "id": "adca997d",
   "metadata": {},
   "outputs": [
    {
     "data": {
      "text/plain": [
       "{1, 2, 3, 4, 5}"
      ]
     },
     "execution_count": 23,
     "metadata": {},
     "output_type": "execute_result"
    }
   ],
   "source": [
    "a.remove(6)\n",
    "a"
   ]
  },
  {
   "cell_type": "markdown",
   "id": "a717fde4",
   "metadata": {},
   "source": [
    "## 4.discard()"
   ]
  },
  {
   "cell_type": "code",
   "execution_count": 25,
   "id": "6eff2907",
   "metadata": {},
   "outputs": [
    {
     "data": {
      "text/plain": [
       "{1, 2, 4, 5, 6}"
      ]
     },
     "execution_count": 25,
     "metadata": {},
     "output_type": "execute_result"
    }
   ],
   "source": [
    "a={1,2,3,4,5,6}\n",
    "a.discard(3)\n",
    "a"
   ]
  },
  {
   "cell_type": "markdown",
   "id": "be83490f",
   "metadata": {},
   "source": [
    "## 5.pop "
   ]
  },
  {
   "cell_type": "code",
   "execution_count": 26,
   "id": "3e322844",
   "metadata": {},
   "outputs": [
    {
     "data": {
      "text/plain": [
       "{2, 4, 5, 6}"
      ]
     },
     "execution_count": 26,
     "metadata": {},
     "output_type": "execute_result"
    }
   ],
   "source": [
    "x=a.pop()\n",
    "a"
   ]
  },
  {
   "cell_type": "markdown",
   "id": "f0360f99",
   "metadata": {},
   "source": [
    "## 6.copy"
   ]
  },
  {
   "cell_type": "code",
   "execution_count": 27,
   "id": "6c0072f9",
   "metadata": {},
   "outputs": [
    {
     "name": "stdout",
     "output_type": "stream",
     "text": [
      "{2, 4, 5, 6} 1995866915776\n",
      "{2, 4, 5, 6} 1995866918016\n"
     ]
    }
   ],
   "source": [
    "b=a.copy()\n",
    "print(a,id(a))\n",
    "print(b,id(b))"
   ]
  },
  {
   "cell_type": "markdown",
   "id": "face437e",
   "metadata": {},
   "source": [
    "## 7.clear"
   ]
  },
  {
   "cell_type": "code",
   "execution_count": 28,
   "id": "d722fa70",
   "metadata": {},
   "outputs": [
    {
     "name": "stdout",
     "output_type": "stream",
     "text": [
      "{2, 4, 5, 6}\n"
     ]
    },
    {
     "data": {
      "text/plain": [
       "set()"
      ]
     },
     "execution_count": 28,
     "metadata": {},
     "output_type": "execute_result"
    }
   ],
   "source": [
    "print(b)\n",
    "b.clear()\n",
    "b"
   ]
  },
  {
   "cell_type": "code",
   "execution_count": null,
   "id": "3d50979f",
   "metadata": {},
   "outputs": [],
   "source": []
  }
 ],
 "metadata": {
  "kernelspec": {
   "display_name": "Python 3 (ipykernel)",
   "language": "python",
   "name": "python3"
  },
  "language_info": {
   "codemirror_mode": {
    "name": "ipython",
    "version": 3
   },
   "file_extension": ".py",
   "mimetype": "text/x-python",
   "name": "python",
   "nbconvert_exporter": "python",
   "pygments_lexer": "ipython3",
   "version": "3.11.3"
  }
 },
 "nbformat": 4,
 "nbformat_minor": 5
}
